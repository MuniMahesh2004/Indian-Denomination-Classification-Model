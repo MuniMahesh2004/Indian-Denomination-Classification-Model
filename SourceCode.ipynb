{
  "nbformat": 4,
  "nbformat_minor": 0,
  "metadata": {
    "colab": {
      "provenance": []
    },
    "kernelspec": {
      "name": "python3",
      "display_name": "Python 3"
    },
    "language_info": {
      "name": "python"
    }
  },
  "cells": [
    {
      "cell_type": "code",
      "execution_count": null,
      "metadata": {
        "id": "rKxKgF0a1WWp"
      },
      "outputs": [],
      "source": [
        "import os\n",
        "from warnings import filterwarnings\n",
        "filterwarnings('ignore')\n",
        "\n",
        "from sklearn.metrics import confusion_matrix, accuracy_score, classification_report\n",
        "\n",
        "import tensorflow as tf\n",
        "from tensorflow.keras.models import Sequential\n",
        "from tensorflow.keras.layers import Dense, Dropout, MaxPool2D, Conv2D, Flatten\n",
        "from tensorflow.keras.preprocessing.image import ImageDataGenerator\n",
        "\n",
        "import matplotlib.pyplot as plt\n",
        "import numpy as np\n"
        "import pandas as pd\n"
        "\n",
        "# Set image dimensions and batch size\n",
        "img_width, img_height = 150, 150\n",
        "batch_size = 32\n",
        "epochs = 25\n",
        "\n",
        "# Set paths to the dataset\n",
        "train_data_dir = \"/kaggle/input/indian-currency-note-images-dataset-2020/Indian currency dataset v1/training\"\n",
        "test_data_dir = \"/kaggle/input/indian-currency-note-images-dataset-2020/Indian currency dataset v1/validation\"\n",
        "\n",
        "# Set labels\n",
        "labels = ['10', '100', '20', '200', '2000', '50', '500']\n",
        "\n",
        "# Set up data generators\n",
        "trainGen = ImageDataGenerator(rescale=1./255, shear_range=0.2, horizontal_flip=True, zoom_range=0.4)\n",
        "testGen = ImageDataGenerator(rescale=1./255)\n",
        "\n",
        "# Load data using the data generators\n",
        "train = trainGen.flow_from_directory(train_data_dir, target_size=(img_width, img_height), classes=labels, class_mode='categorical', batch_size=batch_size)\n",
        "test = testGen.flow_from_directory(test_data_dir, target_size=(img_width, img_height), classes=labels, class_mode='categorical', batch_size=batch_size)\n",
        "\n",
        "# Build the model\n",
        "model = Sequential([\n",
        "    Conv2D(128, (3, 3), input_shape=(img_width, img_height, 3), padding=\"same\", activation='relu'),\n",
        "    MaxPool2D(pool_size=(2, 2)),\n",
        "    Conv2D(64, (3, 3), padding='same', activation='relu'),\n",
        "    MaxPool2D(pool_size=(2, 2)),\n",
        "    Dropout(0.2),\n",
        "    Conv2D(32, (3, 3), padding='same', activation='relu'),\n",
        "    MaxPool2D(pool_size=(2, 2)),\n",
        "    Dropout(0.2),\n",
        "    Flatten(),\n",
        "    Dense(32, activation='relu'),\n",
        "    Dense(7, activation='softmax')\n",
        "])\n",
        "\n",
        "model.summary()\n",
        "\n",
        "# Compile the model\n",
        "model.compile(optimizer='adam', loss='categorical_crossentropy', metrics=['accuracy'])\n",
        "\n",
        "# Train the model\n",
        "history = model.fit(train, epochs=epochs, validation_data=test)\n",
        "\n",
        "# Extract accuracy and loss for plotting\n",
        "accuracy = history.history['accuracy']\n",
        "val_accuracy = history.history['val_accuracy']\n",
        "loss = history.history['loss']\n",
        "val_loss = history.history['val_loss']\n",
        "\n",
        
        "plt.figure(figsize=(14, 4))\n",
        "\n",
        "# Accuracy graph\n",
        "plt.subplot(1, 2, 1)\n",
        "plt.plot(accuracy, label='Training Accuracy')\n",
        "plt.plot(val_accuracy, label='Validation Accuracy')\n",
        "plt.title('Economy Model Accuracy')\n",
        "plt.xlabel('Epochs')\n",
        "plt.ylabel('Accuracy')\n",

        "plt.legend()\n",
        "\n",
        "# Loss graph\n",
        "plt.subplot(1, 2, 2)\n",
        "plt.plot(loss, label='Training Loss')\n",
        "plt.plot(val_loss, label='Validation Loss')\n",
        "plt.title('Model Loss')\n",
        "plt.xlabel('Epochs')\n",
        "plt.ylabel('Loss ')\n",
        "plt.legend()\n",
        "\n",
        "plt.show()\n"
      ]
    }
  ]
}
